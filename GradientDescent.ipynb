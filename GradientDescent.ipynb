{
 "cells": [
  {
   "cell_type": "markdown",
   "metadata": {},
   "source": [
    "## Gradient Descent for Supervised Learning"
   ]
  },
  {
   "cell_type": "markdown",
   "metadata": {},
   "source": [
    "Gradient descent is an optimization algorithm used to find the values of parameters (coefficients) of a function (f) that minimizes a cost function (cost).\n",
    "\n",
    "Gradient descent is best used when the parameters cannot be calculated analytically (e.g. using linear algebra) and must be searched for by an optimization algorithm.\n"
   ]
  },
  {
   "cell_type": "markdown",
   "metadata": {},
   "source": [
    "## Cost function"
   ]
  },
  {
   "cell_type": "markdown",
   "metadata": {},
   "source": [
    "We initalize Gradient Descent by filling  with random values. We improve it gradually by taking one step at a time, each step attempting to decrease the cost function until the algorithm converges to a minimum. In our case we will be using the Mean Squared Error, or MSE for implementation."
   ]
  },
  {
   "cell_type": "markdown",
   "metadata": {},
   "source": [
    "## Learning rate"
   ]
  },
  {
   "cell_type": "markdown",
   "metadata": {},
   "source": [
    "An important parameter in the Gradient Descent algorithm is the step size, which is determined by the learning rate hyperparameter. If the learning rate is too small, then the algorithm will have to complete many iterations to converge to a minimum and will negatively impact performance. Conversely, if the learning rate is too high, we might jump across the 'valley' of the equation and end up on the other side. This would cause the algorithm to diverge with larger and larger values; ultimately it would fail to find an optimal solution."
   ]
  },
  {
   "cell_type": "markdown",
   "metadata": {},
   "source": [
    "## Implementing Gradient Descent"
   ]
  },
  {
   "cell_type": "markdown",
   "metadata": {},
   "source": [
    " we need to compute the gradient of the cost function about each model parameter  (e.g., we calculate how much the cost function will change if you change  incrementally). We compute this by taking the partial derivative of the cost function."
   ]
  },
  {
   "cell_type": "markdown",
   "metadata": {},
   "source": [
    "The example we will use to display gradient descent will be the batch gradient example. \n",
    "Which will train data at each step.\n",
    "For this I'll first import the neccesary libaries "
   ]
  },
  {
   "cell_type": "code",
   "execution_count": 1,
   "metadata": {},
   "outputs": [],
   "source": [
    "import numpy as np\n",
    "import matplotlib.pyplot as plt\n",
    "%matplotlib inline"
   ]
  },
  {
   "cell_type": "code",
   "execution_count": 2,
   "metadata": {},
   "outputs": [
    {
     "data": {
      "image/png": "[encoded data removed]",
      "text/plain": [
       "<Figure size 864x576 with 1 Axes>"
      ]
     },
     "metadata": {
      "needs_background": "light"
     },
     "output_type": "display_data"
    }
   ],
   "source": [
    "## Generating Random Data for this example using the equation y= 9 + 2x + noise\n",
    "X = 2 * np.random.rand(100,1)\n",
    "y = 9 + 2 * X+np.random.randn(100,1)\n",
    "\n",
    "plt.figure(figsize = (12, 8))\n",
    "plt.plot(X, y, 'b.')\n",
    "plt.xlabel('$x$', \n",
    "           fontsize=20)\n",
    "plt.ylabel('$y$', \n",
    "           rotation=0, \n",
    "           fontsize = 20)\n",
    "plt.show()"
   ]
  },
  {
   "cell_type": "code",
   "execution_count": 4,
   "metadata": {},
   "outputs": [],
   "source": [
    "##Initialzing our basic gradient algorithm \n",
    "eta = 0.1\n",
    "n_iterations = 1000\n",
    "theta = np.random.randn(2,1)\n",
    "m = 100\n",
    "\n",
    "X_b = np.c_[np.ones((100, 1)), X]\n",
    "\n",
    "for i in range(n_iterations):\n",
    "    grads = 2/m * X_b.T.dot(X_b.dot(theta) - y)\n",
    "    theta = theta - eta * grads"
   ]
  },
  {
   "cell_type": "code",
   "execution_count": 5,
   "metadata": {},
   "outputs": [
    {
     "name": "stdout",
     "output_type": "stream",
     "text": [
      "[[8.99789233]\n",
      " [1.98481469]]\n"
     ]
    }
   ],
   "source": [
    "## The Result of Theta\n",
    "print(theta)"
   ]
  },
  {
   "cell_type": "markdown",
   "metadata": {},
   "source": [
    "As you can see the result is very close to our original distrubtion if we don't account for noise now lets plot the data to visual it"
   ]
  },
  {
   "cell_type": "code",
   "execution_count": 7,
   "metadata": {},
   "outputs": [
    {
     "data": {
      "image/png": "[encoded data removed]",
      "text/plain": [
       "<Figure size 864x576 with 1 Axes>"
      ]
     },
     "metadata": {
      "needs_background": "light"
     },
     "output_type": "display_data"
    }
   ],
   "source": [
    "X_new = np.array([[0], [2]])\n",
    "X_new_b = np.c_[np.ones((2, 1)), X_new]\n",
    "y_predict = X_new_b.dot(theta)\n",
    "y_predict\n",
    "theta_path_bgd = []\n",
    "\n",
    "def plot_gradient_descent(theta, eta, theta_path=None):\n",
    "    m = len(X_b)\n",
    "    plt.plot(X, y, \"b.\")\n",
    "    n_iterations = 1000\n",
    "    for iteration in range(n_iterations):\n",
    "        if iteration < 10:\n",
    "            y_predict = X_new_b.dot(theta)\n",
    "            style = \"b-\" if iteration > 0 else \"r--\"\n",
    "            plt.plot(X_new, y_predict, style)\n",
    "        gradients = 2/m * X_b.T.dot(X_b.dot(theta) - y)\n",
    "        theta = theta - eta * gradients\n",
    "        if theta_path is not None:\n",
    "            theta_path.append(theta)\n",
    "    plt.xlabel(\"$x_1$\", fontsize=20)\n",
    "    plt.axis([0, 2, 0, 15])\n",
    "    plt.title(r\"$\\eta = {}$\".format(eta), fontsize=16)\n",
    "    \n",
    "plt.figure(figsize=(12,8))\n",
    "plt.ylabel(\"$y$\", rotation=0, fontsize=20)\n",
    "plt.plot(132); plot_gradient_descent(theta, eta=0.1, theta_path=theta_path_bgd)"
   ]
  }
 ],
 "metadata": {
  "interpreter": {
   "hash": "98dda0a4ca032cafd3aa045f421b7afa4c4b41507b67b1e5babf0c34d9c05611"
  },
  "kernelspec": {
   "display_name": "Python 3.8.5 ('base')",
   "language": "python",
   "name": "python3"
  },
  "language_info": {
   "codemirror_mode": {
    "name": "ipython",
    "version": 3
   },
   "file_extension": ".py",
   "mimetype": "text/x-python",
   "name": "python",
   "nbconvert_exporter": "python",
   "pygments_lexer": "ipython3",
   "version": "3.8.5"
  },
  "orig_nbformat": 4
 },
 "nbformat": 4,
 "nbformat_minor": 2
}
